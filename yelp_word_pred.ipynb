{
 "cells": [
  {
   "cell_type": "markdown",
   "metadata": {},
   "source": [
    "## Read Yelp review and test a small chunk"
   ]
  },
  {
   "cell_type": "code",
   "execution_count": 13,
   "metadata": {
    "collapsed": true
   },
   "outputs": [],
   "source": [
    "import tensorflow as tf\n",
    "import numpy as np\n",
    "import pandas as pd\n",
    "import time\n",
    "import yelp_util\n",
    "import os\n",
    "from itertools import chain"
   ]
  },
  {
   "cell_type": "code",
   "execution_count": 2,
   "metadata": {
    "collapsed": true
   },
   "outputs": [],
   "source": [
    "yelp_review = pd.read_pickle('data/yelp_academic_dataset_review.pickle') # read yelp review pickle"
   ]
  },
  {
   "cell_type": "code",
   "execution_count": 3,
   "metadata": {
    "collapsed": false
   },
   "outputs": [],
   "source": [
    "review_list = list(yelp_review.text.iloc[10000:11000]) # example of review"
   ]
  },
  {
   "cell_type": "code",
   "execution_count": 21,
   "metadata": {
    "collapsed": false
   },
   "outputs": [
    {
     "name": "stdout",
     "output_type": "stream",
     "text": [
      "Building dictionary..\n",
      "(134946, ' total words ', 10769, ' unique words')\n"
     ]
    }
   ],
   "source": [
    "worddict, tksents = yelp_util.create_vocab(review_list) # create dictionary and tokenized sentenace"
   ]
  },
  {
   "cell_type": "code",
   "execution_count": 22,
   "metadata": {
    "collapsed": false
   },
   "outputs": [],
   "source": [
    "review_words_stream = yelp_util.word2id(tksents, worddict)\n",
    "review_words_stream = np.array(list(chain.from_iterable(review_words_stream)))"
   ]
  },
  {
   "cell_type": "code",
   "execution_count": 36,
   "metadata": {
    "collapsed": false
   },
   "outputs": [],
   "source": [
    "args = yelp_util.InputParameter()\n",
    "# correct default parameters\n",
    "args.vocab_size = review_words_stream.max() + 1\n",
    "args.rnn_size = 200\n",
    "args.batch_size = 30\n",
    "args.seq_length = 50\n",
    "args.num_layers = 2"
   ]
  },
  {
   "cell_type": "code",
   "execution_count": 30,
   "metadata": {
    "collapsed": true
   },
   "outputs": [],
   "source": [
    "tf.ops.reset_default_graph() # if we want to clear tensorflow clear graph"
   ]
  },
  {
   "cell_type": "code",
   "execution_count": 31,
   "metadata": {
    "collapsed": false
   },
   "outputs": [],
   "source": [
    "model = yelp_util.ReviewModel(args)"
   ]
  },
  {
   "cell_type": "code",
   "execution_count": 33,
   "metadata": {
    "collapsed": false
   },
   "outputs": [],
   "source": [
    "# where review words stream is the stream of word2vec index\n",
    "sequence_streamer = yelp_util.SeqStream(review_words_stream, args.batch_size, args.seq_length)"
   ]
  },
  {
   "cell_type": "code",
   "execution_count": 34,
   "metadata": {
    "collapsed": false
   },
   "outputs": [],
   "source": [
    "# boiler plate\n",
    "sess = tf.Session()\n",
    "init = tf.initialize_all_variables()\n",
    "sess.run(init)"
   ]
  },
  {
   "cell_type": "code",
   "execution_count": null,
   "metadata": {
    "collapsed": false,
    "scrolled": true
   },
   "outputs": [],
   "source": [
    "for e in xrange(args.num_epochs):\n",
    "    sess.run(tf.assign(model.lr, args.learning_rate * (args.decay_rate ** e)))\n",
    "    sequence_streamer.reset_batch_pointer()\n",
    "    state = model.initial_state.eval(session=sess)\n",
    "    for b in xrange(sequence_streamer.num_batches):\n",
    "        start = time.time()\n",
    "        x, y = sequence_streamer.next_batch()\n",
    "        feed = {model.input_data: x, model.targets: y, model.initial_state: state}\n",
    "        train_loss, state, _ = sess.run([model.cost, model.final_state, model.train_op], feed)\n",
    "        end = time.time()\n",
    "        if ((e * sequence_streamer.num_batches + b) % 500) == 0:\n",
    "            print \"{}/{} (epoch {}), train_loss = {:.3f}, time/batch = {:.3f}\" \\\n",
    "                .format(e * sequence_streamer.num_batches + b,\n",
    "                        args.num_epochs * sequence_streamer.num_batches,\n",
    "                        e, train_loss, end - start)"
   ]
  },
  {
   "cell_type": "markdown",
   "metadata": {},
   "source": [
    "## Save Tensorflow model"
   ]
  },
  {
   "cell_type": "code",
   "execution_count": 31,
   "metadata": {
    "collapsed": true
   },
   "outputs": [],
   "source": [
    "saver = tf.train.Saver(tf.all_variables()) # prepare to save the model\n",
    "checkpoint_path = os.path.join('/Users/titipat/Desktop/Git/yelp_dataset_challenge/data/', 'model.ckpt')\n",
    "saver.save(sess, checkpoint_path) # save model"
   ]
  },
  {
   "cell_type": "code",
   "execution_count": null,
   "metadata": {
    "collapsed": true
   },
   "outputs": [],
   "source": []
  }
 ],
 "metadata": {
  "kernelspec": {
   "display_name": "Python 2",
   "language": "python",
   "name": "python2"
  },
  "language_info": {
   "codemirror_mode": {
    "name": "ipython",
    "version": 2
   },
   "file_extension": ".py",
   "mimetype": "text/x-python",
   "name": "python",
   "nbconvert_exporter": "python",
   "pygments_lexer": "ipython2",
   "version": "2.7.10"
  }
 },
 "nbformat": 4,
 "nbformat_minor": 0
}
